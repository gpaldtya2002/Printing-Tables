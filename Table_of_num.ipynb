{
  "nbformat": 4,
  "nbformat_minor": 0,
  "metadata": {
    "colab": {
      "provenance": [],
      "authorship_tag": "ABX9TyOHyd0nsU6azyK4+T4wxQSk",
      "include_colab_link": true
    },
    "kernelspec": {
      "name": "python3",
      "display_name": "Python 3"
    },
    "language_info": {
      "name": "python"
    }
  },
  "cells": [
    {
      "cell_type": "markdown",
      "metadata": {
        "id": "view-in-github",
        "colab_type": "text"
      },
      "source": [
        "<a href=\"https://colab.research.google.com/github/gpaldtya2002/Printing-Tables/blob/main/Table_of_num.ipynb\" target=\"_parent\"><img src=\"https://colab.research.google.com/assets/colab-badge.svg\" alt=\"Open In Colab\"/></a>"
      ]
    },
    {
      "cell_type": "markdown",
      "source": [
        "## Method 1: Using For loop"
      ],
      "metadata": {
        "id": "vRlms3C68EHi"
      }
    },
    {
      "cell_type": "code",
      "execution_count": 1,
      "metadata": {
        "colab": {
          "base_uri": "https://localhost:8080/"
        },
        "id": "b0wKTq8D7lDC",
        "outputId": "be83efbf-920f-46ef-d615-f0fb0744ca99"
      },
      "outputs": [
        {
          "output_type": "stream",
          "name": "stdout",
          "text": [
            "7 * 1 = 7\n",
            "7 * 2 = 14\n",
            "7 * 3 = 21\n",
            "7 * 4 = 28\n",
            "7 * 5 = 35\n",
            "7 * 6 = 42\n",
            "7 * 7 = 49\n",
            "7 * 8 = 56\n",
            "7 * 9 = 63\n",
            "7 * 10 = 70\n"
          ]
        }
      ],
      "source": [
        "a=7\n",
        "for i in range(1,11):\n",
        "  print(a, \"*\",i, \"=\",a*i)"
      ]
    },
    {
      "cell_type": "markdown",
      "source": [
        "## Method 2: Using While loop"
      ],
      "metadata": {
        "id": "l3KffGho8MXO"
      }
    },
    {
      "cell_type": "code",
      "source": [
        "a=8\n",
        "i=1\n",
        "while i<=10:\n",
        "  print(a, \"*\",i, \"=\",a*i)\n",
        "  i+=1"
      ],
      "metadata": {
        "colab": {
          "base_uri": "https://localhost:8080/"
        },
        "id": "ewAtEZhk8M4r",
        "outputId": "3f7cc44d-bddf-40ec-9256-c6e24883a3b8"
      },
      "execution_count": 9,
      "outputs": [
        {
          "output_type": "stream",
          "name": "stdout",
          "text": [
            "8 * 1 = 8\n",
            "8 * 2 = 16\n",
            "8 * 3 = 24\n",
            "8 * 4 = 32\n",
            "8 * 5 = 40\n",
            "8 * 6 = 48\n",
            "8 * 7 = 56\n",
            "8 * 8 = 64\n",
            "8 * 9 = 72\n",
            "8 * 10 = 80\n"
          ]
        }
      ]
    },
    {
      "cell_type": "markdown",
      "source": [
        "## Print table of num entered by user"
      ],
      "metadata": {
        "id": "c8jq7_9k8NTL"
      }
    },
    {
      "cell_type": "code",
      "source": [
        "x= int(input(\"Enter No:\"))\n",
        "for i in range(1,11):\n",
        "\tprint (x,\" * \", i , \" = \", i * x)"
      ],
      "metadata": {
        "colab": {
          "base_uri": "https://localhost:8080/"
        },
        "id": "mDH0LJwA8NpT",
        "outputId": "62a81bc0-302c-4dd7-c691-64c04ecb59d7"
      },
      "execution_count": 10,
      "outputs": [
        {
          "output_type": "stream",
          "name": "stdout",
          "text": [
            "Enter No:129\n",
            "129  *  1  =  129\n",
            "129  *  2  =  258\n",
            "129  *  3  =  387\n",
            "129  *  4  =  516\n",
            "129  *  5  =  645\n",
            "129  *  6  =  774\n",
            "129  *  7  =  903\n",
            "129  *  8  =  1032\n",
            "129  *  9  =  1161\n",
            "129  *  10  =  1290\n"
          ]
        }
      ]
    }
  ]
}